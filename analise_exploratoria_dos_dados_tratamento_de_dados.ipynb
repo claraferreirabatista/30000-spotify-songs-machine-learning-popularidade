{
 "cells": [
  {
   "cell_type": "code",
   "execution_count": 1,
   "metadata": {},
   "outputs": [
    {
     "name": "stdout",
     "output_type": "stream",
     "text": [
      "Defaulting to user installation because normal site-packages is not writeable\n",
      "Requirement already satisfied: numpy in /home/clara/.local/lib/python3.10/site-packages (1.25.2)\n",
      "Requirement already satisfied: pandas in /home/clara/.local/lib/python3.10/site-packages (2.0.3)\n",
      "Requirement already satisfied: matplotlib in /home/clara/.local/lib/python3.10/site-packages (3.7.2)\n",
      "Requirement already satisfied: seaborn in /home/clara/.local/lib/python3.10/site-packages (0.12.2)\n",
      "Requirement already satisfied: tzdata>=2022.1 in /home/clara/.local/lib/python3.10/site-packages (from pandas) (2023.3)\n",
      "Requirement already satisfied: python-dateutil>=2.8.2 in /home/clara/.local/lib/python3.10/site-packages (from pandas) (2.8.2)\n",
      "Requirement already satisfied: pytz>=2020.1 in /usr/lib/python3/dist-packages (from pandas) (2022.1)\n",
      "Requirement already satisfied: contourpy>=1.0.1 in /home/clara/.local/lib/python3.10/site-packages (from matplotlib) (1.1.0)\n",
      "Requirement already satisfied: pillow>=6.2.0 in /usr/lib/python3/dist-packages (from matplotlib) (9.0.1)\n",
      "Requirement already satisfied: pyparsing<3.1,>=2.3.1 in /usr/lib/python3/dist-packages (from matplotlib) (2.4.7)\n",
      "Requirement already satisfied: kiwisolver>=1.0.1 in /home/clara/.local/lib/python3.10/site-packages (from matplotlib) (1.4.4)\n",
      "Requirement already satisfied: cycler>=0.10 in /home/clara/.local/lib/python3.10/site-packages (from matplotlib) (0.11.0)\n",
      "Requirement already satisfied: fonttools>=4.22.0 in /home/clara/.local/lib/python3.10/site-packages (from matplotlib) (4.41.1)\n",
      "Requirement already satisfied: packaging>=20.0 in /usr/lib/python3/dist-packages (from matplotlib) (21.3)\n",
      "Requirement already satisfied: six>=1.5 in /usr/lib/python3/dist-packages (from python-dateutil>=2.8.2->pandas) (1.16.0)\n"
     ]
    }
   ],
   "source": [
    "# Instalando as bibliotecas necessárias\n",
    "! pip install numpy pandas matplotlib seaborn"
   ]
  },
  {
   "cell_type": "code",
   "execution_count": 2,
   "metadata": {},
   "outputs": [
    {
     "name": "stderr",
     "output_type": "stream",
     "text": [
      "/usr/lib/python3/dist-packages/scipy/__init__.py:146: UserWarning: A NumPy version >=1.17.3 and <1.25.0 is required for this version of SciPy (detected version 1.25.2\n",
      "  warnings.warn(f\"A NumPy version >={np_minversion} and <{np_maxversion}\"\n"
     ]
    }
   ],
   "source": [
    "import numpy as np\n",
    "import pandas as pd\n",
    "import matplotlib.pyplot as plt\n",
    "import seaborn as sns\n"
   ]
  },
  {
   "cell_type": "code",
   "execution_count": 3,
   "metadata": {},
   "outputs": [
    {
     "name": "stdout",
     "output_type": "stream",
     "text": [
      "Primeiras linhas do DataFrame:\n",
      "      track_artist  track_popularity         track_album_id                             track_album_name track_album_release_date                                                                                      playlist_name            playlist_id playlist_genre  playlist_subgenre  danceability  energy  key  loudness  mode  speechiness  acousticness  instrumentalness  liveness  valence   tempo  duration_ms    intervalo\n",
      "       Ray Charles                59 0cw6Sv7IwZ87aLPPvNPSd0 Ray Charles (aka: Hallelujah, I Love Her So)               01/01/1957 The 1950s/1960s/1970s/1980s/1990s/2000s/2010s with pop/r&b/soul/boogie/dance/jazz/hip hop/hop/rap. 1S7BckuYIkEazeNKOSM0uA            r&b urban contemporary         0.565   0.962    8    -2.981     1       0.0640        0.4370            0.0000    0.0560    0.906 148.808       160227 [1957, 1962)\n",
      "   The Temptations                26 7C4vMPQR8KcbZv4e2ZI0lc                  The Temptations Sing Smokey               01/01/1965                                                                  School Dance 2019 (Squeaky Clean) 0SqaMfNsngZCpPw0UuelA7          latin      latin hip hop         0.579   0.419    0   -10.720     1       0.0346        0.6250            0.0000    0.0981    0.673 104.564       165000 [1962, 1967)\n",
      "   John Lee Hooker                 2 6PQVGMonlW89Pr5MFTMPvW                          The Real Folk Blues               01/01/1966                                                                                         Blues Rock 56dbowk1V5ycS5jW7DSvi5           rock       classic rock         0.746   0.560    5   -14.789     1       0.0565        0.4940            0.0000    0.3160    0.853 124.680       184960 [1962, 1967)\n",
      "The Rolling Stones                36 5nKpMsduwp5xqCKq2IbSKv The Rolling Stones In Mono (Remastered 2016)               01/01/1966                                                                            Classic Rock Retrogamer 6gUFdcGzKAHyDXY9TKC6cP           rock       classic rock         0.645   0.610    1    -8.572     0       0.0323        0.5290            0.0355    0.1370    0.496 118.599       271507 [1962, 1967)\n",
      "The Rolling Stones                66 5nKpMsduwp5xqCKq2IbSKv The Rolling Stones In Mono (Remastered 2016)               01/01/1966                                                                                      Rock Classics 37i9dQZF1DWXRqgorJj26U           rock       classic rock         0.505   0.836    5    -7.384     0       0.1010        0.0103            0.0771    0.2950    0.764 159.669       204480 [1962, 1967)\n"
     ]
    }
   ],
   "source": [
    "# Carregando os dados\n",
    "df = pd.read_parquet('versao_1_spotify_songs.parquet')# Exibindo as primeiras linhas do DataFrame\n",
    "print(\"Primeiras linhas do DataFrame:\")\n",
    "print(df.head().to_string(index=False))"
   ]
  },
  {
   "cell_type": "code",
   "execution_count": 4,
   "metadata": {},
   "outputs": [],
   "source": [
    "#Excluindo valores nulos\n",
    "df = df.dropna()"
   ]
  },
  {
   "cell_type": "code",
   "execution_count": 5,
   "metadata": {},
   "outputs": [],
   "source": [
    "\n",
    "#Excluindo valores duplicados\n",
    "df = df.drop_duplicates()"
   ]
  },
  {
   "cell_type": "code",
   "execution_count": 6,
   "metadata": {},
   "outputs": [],
   "source": [
    "# Lista das colunas a serem removidas\n",
    "colunas_para_dropar = [\n",
    "    'track_artist', 'track_album_id', 'track_album_name',\n",
    "    'playlist_name', 'playlist_id'\n",
    "]\n",
    "\n",
    "# Remover as colunas do conjunto de dados\n",
    "df = df.drop(columns=colunas_para_dropar)\n"
   ]
  },
  {
   "cell_type": "code",
   "execution_count": 7,
   "metadata": {},
   "outputs": [
    {
     "data": {
      "text/plain": [
       "Index(['track_popularity', 'track_album_release_date', 'playlist_genre',\n",
       "       'playlist_subgenre', 'danceability', 'energy', 'key', 'loudness',\n",
       "       'mode', 'speechiness', 'acousticness', 'instrumentalness', 'liveness',\n",
       "       'valence', 'tempo', 'duration_ms', 'intervalo'],\n",
       "      dtype='object')"
      ]
     },
     "execution_count": 7,
     "metadata": {},
     "output_type": "execute_result"
    }
   ],
   "source": [
    "df.columns"
   ]
  },
  {
   "cell_type": "code",
   "execution_count": 8,
   "metadata": {},
   "outputs": [
    {
     "data": {
      "text/plain": [
       "track_name\n",
       "Mess Around                                01/01/1957\n",
       "My Girl                                    01/01/1965\n",
       "One Bourbon, One Scotch, One Beer          01/01/1966\n",
       "Gimme Shelter - Mono                       01/01/1966\n",
       "Paint It, Black - Mono                     01/01/1966\n",
       "                                              ...    \n",
       "Lit                                        31/12/2019\n",
       "No Sleep (feat. Bonn) - DubVision Remix    31/12/2019\n",
       "memories of her, last winter               31/12/2019\n",
       "Warrior                                    31/12/2019\n",
       "Tottenham Tugz                             31/12/2019\n",
       "Name: track_album_release_date, Length: 30942, dtype: object"
      ]
     },
     "execution_count": 8,
     "metadata": {},
     "output_type": "execute_result"
    }
   ],
   "source": [
    "df['track_album_release_date']"
   ]
  },
  {
   "cell_type": "code",
   "execution_count": 9,
   "metadata": {},
   "outputs": [],
   "source": [
    "# Aplicar o filtro para manter apenas os anos maiores que 2018\n",
    "df = df[df['track_album_release_date'].str[-4:].astype(int) > 2018]\n"
   ]
  },
  {
   "cell_type": "code",
   "execution_count": 10,
   "metadata": {},
   "outputs": [],
   "source": [
    "# Lista das colunas a serem removidas\n",
    "colunas_para_dropar = ['track_album_release_date']\n",
    "\n",
    "# Remover as colunas do conjunto de dados\n",
    "df = df.drop(columns=colunas_para_dropar)"
   ]
  }
 ],
 "metadata": {
  "kernelspec": {
   "display_name": "Python 3",
   "language": "python",
   "name": "python3"
  },
  "language_info": {
   "codemirror_mode": {
    "name": "ipython",
    "version": 3
   },
   "file_extension": ".py",
   "mimetype": "text/x-python",
   "name": "python",
   "nbconvert_exporter": "python",
   "pygments_lexer": "ipython3",
   "version": "3.10.12"
  }
 },
 "nbformat": 4,
 "nbformat_minor": 2
}
