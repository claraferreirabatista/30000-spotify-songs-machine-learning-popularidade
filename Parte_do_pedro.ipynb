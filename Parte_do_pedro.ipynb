{
  "cells": [
    {
      "cell_type": "code",
      "execution_count": 10,
      "metadata": {},
      "outputs": [
        {
          "name": "stdout",
          "output_type": "stream",
          "text": [
            "Defaulting to user installation because normal site-packages is not writeable\n",
            "Collecting imbalanced-learn\n",
            "  Downloading imbalanced_learn-0.11.0-py3-none-any.whl (235 kB)\n",
            "\u001b[2K     \u001b[38;2;114;156;31m━━━━━━━━━━━━━━━━━━━━━━━━━━━━━━━━━━━━━━━\u001b[0m \u001b[32m235.6/235.6 KB\u001b[0m \u001b[31m4.6 MB/s\u001b[0m eta \u001b[36m0:00:00\u001b[0m[31m2.7 MB/s\u001b[0m eta \u001b[36m0:00:01\u001b[0m\n",
            "\u001b[?25hRequirement already satisfied: threadpoolctl>=2.0.0 in /home/clara/.local/lib/python3.10/site-packages (from imbalanced-learn) (3.2.0)\n",
            "Requirement already satisfied: joblib>=1.1.1 in /home/clara/.local/lib/python3.10/site-packages (from imbalanced-learn) (1.3.2)\n",
            "Requirement already satisfied: scipy>=1.5.0 in /usr/lib/python3/dist-packages (from imbalanced-learn) (1.8.0)\n",
            "Requirement already satisfied: numpy>=1.17.3 in /home/clara/.local/lib/python3.10/site-packages (from imbalanced-learn) (1.25.2)\n",
            "Requirement already satisfied: scikit-learn>=1.0.2 in /home/clara/.local/lib/python3.10/site-packages (from imbalanced-learn) (1.3.2)\n",
            "Installing collected packages: imbalanced-learn\n",
            "Successfully installed imbalanced-learn-0.11.0\n",
            "Defaulting to user installation because normal site-packages is not writeable\n",
            "\u001b[31mERROR: Could not find a version that satisfies the requirement collections (from versions: none)\u001b[0m\u001b[31m\n",
            "\u001b[0m\u001b[31mERROR: No matching distribution found for collections\u001b[0m\u001b[31m\n",
            "\u001b[0m"
          ]
        }
      ],
      "source": [
        "! pip install imbalanced-learn\n",
        "! pip install collections\n"
      ]
    },
    {
      "cell_type": "code",
      "execution_count": 1,
      "metadata": {
        "id": "go0dle30f5vP"
      },
      "outputs": [
        {
          "name": "stderr",
          "output_type": "stream",
          "text": [
            "/usr/lib/python3/dist-packages/scipy/__init__.py:146: UserWarning: A NumPy version >=1.17.3 and <1.25.0 is required for this version of SciPy (detected version 1.25.2\n",
            "  warnings.warn(f\"A NumPy version >={np_minversion} and <{np_maxversion}\"\n"
          ]
        }
      ],
      "source": [
        "import pandas as pd\n",
        "from sklearn.model_selection import train_test_split\n",
        "from sklearn.preprocessing import StandardScaler\n",
        "from sklearn.svm import SVR\n",
        "from sklearn.metrics import mean_squared_error"
      ]
    },
    {
      "cell_type": "code",
      "execution_count": 2,
      "metadata": {
        "colab": {
          "base_uri": "https://localhost:8080/",
          "height": 338
        },
        "id": "LQWg3tvuf-t8",
        "outputId": "e3c95861-d717-49c7-e360-e27930fc53be"
      },
      "outputs": [],
      "source": [
        "df = pd.read_parquet('versao_2_spotify_songs.parquet')"
      ]
    },
    {
      "cell_type": "code",
      "execution_count": 3,
      "metadata": {
        "id": "cHZ5qlJigDFl"
      },
      "outputs": [
        {
          "data": {
            "image/png": "[encoded data removed]",
            "text/plain": [
              "<Figure size 640x480 with 1 Axes>"
            ]
          },
          "metadata": {},
          "output_type": "display_data"
        }
      ],
      "source": [
        "import seaborn as sns\n",
        "import matplotlib.pyplot as plt\n",
        "\n",
        "# Distribution of popularity classes\n",
        "sns.countplot(x='popularity_class', data=df)\n",
        "plt.title('Distribution of Popularity Classes')\n",
        "plt.show()\n"
      ]
    },
    {
      "cell_type": "code",
      "execution_count": null,
      "metadata": {
        "id": "Fq41SCsegHVy"
      },
      "outputs": [],
      "source": []
    },
    {
      "cell_type": "code",
      "execution_count": 7,
      "metadata": {
        "id": "DgyG4bh5khwf"
      },
      "outputs": [
        {
          "name": "stdout",
          "output_type": "stream",
          "text": [
            "<class 'pandas.core.frame.DataFrame'>\n",
            "Index: 9864 entries, 7 to 36\n",
            "Data columns (total 15 columns):\n",
            " #   Column             Non-Null Count  Dtype  \n",
            "---  ------             --------------  -----  \n",
            " 0   playlist_genre     9864 non-null   object \n",
            " 1   playlist_subgenre  9864 non-null   object \n",
            " 2   danceability       9864 non-null   float64\n",
            " 3   energy             9864 non-null   float64\n",
            " 4   key                9864 non-null   int64  \n",
            " 5   loudness           9864 non-null   float64\n",
            " 6   mode               9864 non-null   int64  \n",
            " 7   speechiness        9864 non-null   float64\n",
            " 8   acousticness       9864 non-null   float64\n",
            " 9   instrumentalness   9864 non-null   float64\n",
            " 10  liveness           9864 non-null   float64\n",
            " 11  valence            9864 non-null   float64\n",
            " 12  tempo              9864 non-null   float64\n",
            " 13  duration_ms        9864 non-null   int64  \n",
            " 14  popularity_class   9864 non-null   int64  \n",
            "dtypes: float64(9), int64(4), object(2)\n",
            "memory usage: 1.2+ MB\n"
          ]
        }
      ],
      "source": [
        "df.info()"
      ]
    },
    {
      "cell_type": "code",
      "execution_count": 8,
      "metadata": {
        "id": "qq5uW7t-ltXA"
      },
      "outputs": [
        {
          "data": {
            "image/png": "[encoded data removed]",
            "text/plain": [
              "<Figure size 640x480 with 1 Axes>"
            ]
          },
          "metadata": {},
          "output_type": "display_data"
        }
      ],
      "source": [
        "# Distribution of popularity classes\n",
        "sns.countplot(x='popularity_class', data=df)\n",
        "plt.title('Distribution of Popularity Classes')\n",
        "plt.show()\n",
        "\n"
      ]
    },
    {
      "cell_type": "code",
      "execution_count": 11,
      "metadata": {
        "id": "VvJCY4pusyy1"
      },
      "outputs": [
        {
          "name": "stdout",
          "output_type": "stream",
          "text": [
            "Original dataset shape Counter({2: 2676, 3: 2643, 1: 1978, 0: 594})\n",
            "Dataset shape undersampling Counter({0: 594, 1: 594, 2: 594, 3: 594})\n"
          ]
        }
      ],
      "source": [
        "from imblearn.under_sampling import RandomUnderSampler\n",
        "from collections import Counter\n",
        "# separando quem é feature e quem é target\n",
        "X = df.drop(columns=[ 'popularity_class'])\n",
        "y = df['popularity_class']\n",
        "\n",
        "# Splitting dos dados\n",
        "X_train, X_test, y_train, y_test = train_test_split(X, y, test_size=0.2, random_state=42)\n",
        "\n",
        "print(\"Original dataset shape\", Counter(y_train))\n",
        "\n",
        "sm = RandomUnderSampler(random_state=42)\n",
        "X_res, y_res = sm.fit_resample(X_train, y_train)\n",
        "\n",
        "print(\"Dataset shape undersampling\", Counter(y_res))"
      ]
    },
    {
      "cell_type": "code",
      "execution_count": null,
      "metadata": {
        "id": "J9oextLwtWib"
      },
      "outputs": [],
      "source": [
        "# SVM - TESTAR MAIS HIPERPARAMETROS\n",
        "svm_model = SVC(kernel='linear')  # You can try different kernels and hyperparameters\n",
        "\n",
        "# Treinando modelo\n",
        "svm_model.fit(X_res, y_res)\n",
        "\n",
        "# Predict\n",
        "predictions = svm_model.predict(X_test)\n",
        "\n",
        "# Avaliando\n",
        "print(classification_report(y_test, predictions))\n",
        "print(\"Accuracy:\", accuracy_score(y_test, predictions))"
      ]
    },
    {
      "cell_type": "code",
      "execution_count": null,
      "metadata": {
        "id": "0QabrDUmz21K"
      },
      "outputs": [],
      "source": [
        "import seaborn as sns\n",
        "import matplotlib.pyplot as plt\n",
        "\n",
        "from sklearn.metrics import confusion_matrix\n",
        "from mlxtend.plotting import plot_confusion_matrix\n",
        "\n",
        "cm = confusion_matrix(y_test, predictions)\n",
        "plot_confusion_matrix(conf_mat = cm, show_normed = True, class_names = [0,1,2,3])"
      ]
    },
    {
      "cell_type": "code",
      "execution_count": null,
      "metadata": {
        "id": "Z0D_CSd706Gq"
      },
      "outputs": [],
      "source": [
        "# SVM - TESTAR MAIS HIPERPARAMETROS\n",
        "svm_model_sem_under = SVC(kernel='linear')  # You can try different kernels and hyperparameters\n",
        "\n",
        "# Treinando modelo\n",
        "svm_model_sem_under.fit(X_train, y_train)\n",
        "\n",
        "# Predict\n",
        "predictions_sem_under = svm_model_sem_under.predict(X_test)\n",
        "\n",
        "# Avaliando\n",
        "print(classification_report(y_test, predictions_sem_under))\n",
        "print(\"Accuracy:\", accuracy_score(y_test, predictions_sem_under))"
      ]
    },
    {
      "cell_type": "code",
      "execution_count": null,
      "metadata": {
        "id": "ZXpeWCM81Tkc"
      },
      "outputs": [],
      "source": [
        "cm_sem_under = confusion_matrix(y_test, predictions_sem_under)\n",
        "plot_confusion_matrix(conf_mat = cm_sem_under, show_normed = True, class_names = [0,1,2,3])"
      ]
    }
  ],
  "metadata": {
    "colab": {
      "provenance": []
    },
    "kernelspec": {
      "display_name": "Python 3",
      "name": "python3"
    },
    "language_info": {
      "name": "python",
      "version": "3.10.12"
    }
  },
  "nbformat": 4,
  "nbformat_minor": 0
}
