{
 "cells": [
  {
   "cell_type": "code",
   "execution_count": null,
   "metadata": {},
   "outputs": [],
   "source": [
    "! pip install numpy\n",
    "! pip install pandas\n",
    "! pip install matplotlib"
   ]
  },
  {
   "cell_type": "markdown",
   "metadata": {},
   "source": [
    "\n",
    "\n",
    "### 1. Carregamento dos Dados:\n",
    "Usando Python, utilize bibliotecas como Pandas para carregar o arquivo `spotify_songs.parquet`.\n",
    "\n",
    "### 2. Análise Exploratória dos Dados (EDA):\n",
    "- **Examine os Dados:** Utilize `head()`, `info()`, `describe()` para entender a estrutura e os tipos de dados.\n",
    "- **Trate Dados Ausentes:** Identifique e lide com valores nulos, se houver.\n",
    "- **Verifique Estatísticas Básicas:** Analise estatísticas descritivas das colunas numéricas e categóricas.\n",
    "- **Visualizações:** Plote gráficos para entender a distribuição de cada atributo, como histogramas para variáveis numéricas e contagens para variáveis categóricas.\n",
    "\n",
    "### 3. Seleção de Características Relevantes:\n",
    "Para prever a popularidade da música, pode-se considerar:\n",
    "- **Correlações:** Calcule a matriz de correlação para entender as relações entre variáveis e a popularidade.\n",
    "- **Análise de Importância:** Utilize métodos como árvores de decisão, Random Forest ou Gradient Boosting para identificar a importância das features.\n",
    "- **Descarte de Features Irrelevantes:** Elimine colunas que tenham baixa correlação ou importância para a previsão.\n",
    "\n",
    "### 4. Engenharia de Recursos (se necessário):\n",
    "- **Criação de Novas Features:** Se existir conhecimento de domínio, crie novas features derivadas das existentes que possam ter relação com a popularidade.\n",
    "- **Normalização/Padronização:** Prepare os dados para o modelo, aplicando normalização/escalonamento em variáveis numéricas, se necessário.\n",
    "\n",
    "### 5. Preparação para Modelagem:\n",
    "- **Separar Dados:** Divida o conjunto em dados de treino e teste.\n",
    "- **Codificação de Variáveis Categóricas:** Converta variáveis categóricas em formato numérico, se aplicável.\n",
    "- **Balanceamento de Dados (se necessário):** Se houver desbalanceamento na distribuição de classes, aplique técnicas de balanceamento.\n",
    "\n",
    "### 6. Modelo de Machine Learning:\n",
    "Escolha um modelo adequado (regressão, árvores de decisão, random forest, redes neurais) e treine-o utilizando os dados de treino.\n",
    "\n",
    "### 7. Avaliação do Modelo:\n",
    "- **Métricas de Avaliação:** Utilize métricas como R², MSE, RMSE para avaliar o desempenho do modelo.\n",
    "- **Validação Cruzada:** Realize validação cruzada para verificar a estabilidade do modelo.\n",
    "\n",
    "### 8. Ajustes e Otimizações:\n",
    "- **Ajuste de Hiperparâmetros:** Utilize técnicas como Grid Search ou Random Search para otimizar os hiperparâmetros do modelo.\n",
    "- **Feature Engineering Iterativo:** Refine a seleção de características com base nos resultados do modelo.\n",
    "\n",
    "Este processo ajudará a identificar as colunas mais relevantes para prever a popularidade das músicas e a construir um modelo de machine learning eficaz."
   ]
  },
  {
   "cell_type": "code",
   "execution_count": 12,
   "metadata": {},
   "outputs": [
    {
     "name": "stdout",
     "output_type": "stream",
     "text": [
      "Primeiras linhas do DataFrame:\n",
      "+------------------------+-------------------------------------------------------+------------------+------------------+------------------------+-------------------------------------------------------+--------------------------+---------------+------------------------+----------------+-------------------+--------------+--------+-----+----------+------+-------------+--------------+------------------+----------+---------+---------+-------------+\n",
      "|        track_id        |                      track_name                       |   track_artist   | track_popularity |     track_album_id     |                   track_album_name                    | track_album_release_date | playlist_name |      playlist_id       | playlist_genre | playlist_subgenre | danceability | energy | key | loudness | mode | speechiness | acousticness | instrumentalness | liveness | valence |  tempo  | duration_ms |\n",
      "+------------------------+-------------------------------------------------------+------------------+------------------+------------------------+-------------------------------------------------------+--------------------------+---------------+------------------------+----------------+-------------------+--------------+--------+-----+----------+------+-------------+--------------+------------------+----------+---------+---------+-------------+\n",
      "| 6f807x0ima9a1j3VPbc7VN | I Don't Care (with Justin Bieber) - Loud Luxury Remix |    Ed Sheeran    |        66        | 2oCs0DGTsRO98Gh5ZSl2Cx | I Don't Care (with Justin Bieber) [Loud Luxury Remix] |        2019-06-14        |   Pop Remix   | 37i9dQZF1DXcZDD7cfEKhW |      pop       |     dance pop     |    0.748     | 0.916  |  6  |  -2.634  |  1   |   0.0583    |    0.102     |       0.0        |  0.0653  |  0.518  | 122.036 |   194754    |\n",
      "| 0r7CVbZTWZgbTCYdfa2P31 |            Memories - Dillon Francis Remix            |     Maroon 5     |        67        | 63rPSO264uRjW1X5E6cWv6 |            Memories (Dillon Francis Remix)            |        2019-12-13        |   Pop Remix   | 37i9dQZF1DXcZDD7cfEKhW |      pop       |     dance pop     |    0.726     | 0.815  | 11  |  -4.969  |  1   |   0.0373    |    0.0724    |     0.00421      |  0.357   |  0.693  | 99.972  |   162600    |\n",
      "| 1z1Hg7Vb0AhHDiEmnDE79l |            All the Time - Don Diablo Remix            |   Zara Larsson   |        70        | 1HoSmj2eLcsrR0vE9gThr4 |            All the Time (Don Diablo Remix)            |        2019-07-05        |   Pop Remix   | 37i9dQZF1DXcZDD7cfEKhW |      pop       |     dance pop     |    0.675     | 0.931  |  1  |  -3.432  |  0   |   0.0742    |    0.0794    |     2.33e-05     |   0.11   |  0.613  | 124.008 |   176616    |\n",
      "| 75FpbthrwQmzHlBJLuGdC7 |           Call You Mine - Keanu Silva Remix           | The Chainsmokers |        60        | 1nqYsOef1yKKuGOVchbsk6 |              Call You Mine - The Remixes              |        2019-07-19        |   Pop Remix   | 37i9dQZF1DXcZDD7cfEKhW |      pop       |     dance pop     |    0.718     |  0.93  |  7  |  -3.778  |  1   |    0.102    |    0.0287    |     9.43e-06     |  0.204   |  0.277  | 121.956 |   169093    |\n",
      "| 1e8PAfcKUYoKkxPhrHqw4x |        Someone You Loved - Future Humans Remix        |  Lewis Capaldi   |        69        | 7m7vv9wlQ4i0LFuJiE2zsQ |        Someone You Loved (Future Humans Remix)        |        2019-03-05        |   Pop Remix   | 37i9dQZF1DXcZDD7cfEKhW |      pop       |     dance pop     |     0.65     | 0.833  |  1  |  -4.672  |  1   |   0.0359    |    0.0803    |       0.0        |  0.0833  |  0.725  | 123.976 |   189052    |\n",
      "+------------------------+-------------------------------------------------------+------------------+------------------+------------------------+-------------------------------------------------------+--------------------------+---------------+------------------------+----------------+-------------------+--------------+--------+-----+----------+------+-------------+--------------+------------------+----------+---------+---------+-------------+\n",
      "Nomes de todas as colunas:\n",
      "['track_name', 'track_artist', 'track_popularity', 'track_album_id', 'track_album_name', 'track_album_release_date', 'playlist_name', 'playlist_id', 'playlist_genre', 'playlist_subgenre', 'danceability', 'energy', 'key', 'loudness', 'mode', 'speechiness', 'acousticness', 'instrumentalness', 'liveness', 'valence', 'tempo', 'duration_ms']\n",
      "\n",
      "Estatísticas descritivas:\n",
      "+-------+--------------------+---------------------+---------------------+--------------------+--------------------+---------------------+---------------------+---------------------+---------------------+---------------------+--------------------+--------------------+-------------------+\n",
      "|       |  track_popularity  |    danceability     |       energy        |        key         |      loudness      |        mode         |     speechiness     |    acousticness     |  instrumentalness   |      liveness       |      valence       |       tempo        |    duration_ms    |\n",
      "+-------+--------------------+---------------------+---------------------+--------------------+--------------------+---------------------+---------------------+---------------------+---------------------+---------------------+--------------------+--------------------+-------------------+\n",
      "| count |      32833.0       |       32833.0       |       32833.0       |      32833.0       |      32833.0       |       32833.0       |       32833.0       |       32833.0       |       32833.0       |       32833.0       |      32833.0       |      32833.0       |      32833.0      |\n",
      "| mean  | 42.477080985593766 | 0.6548495202996985  | 0.6986192707032558  | 5.374470806810222  | -6.719499131970883 | 0.5657113270185484  | 0.10706806871135749 | 0.1753337150793409  | 0.08474716133310999 | 0.19017619529132274 | 0.5105609737154692 | 120.88113154448268 | 225799.811622453  |\n",
      "|  std  | 24.984074486186937 | 0.14508532044765135 | 0.18091003391959107 | 3.6116574096033762 | 2.988436386332407  | 0.49567076220663064 |  0.101314131511281  | 0.21963254030407936 | 0.22423012401751719 | 0.1543172792439105  | 0.2331459743695146 | 26.903624171880182 | 59834.00618163881 |\n",
      "|  min  |        0.0         |         0.0         |      0.000175       |        0.0         |      -46.448       |         0.0         |         0.0         |         0.0         |         0.0         |         0.0         |        0.0         |        0.0         |      4000.0       |\n",
      "|  25%  |        24.0        |        0.563        |        0.581        |        2.0         |       -8.171       |         0.0         |        0.041        |       0.0151        |         0.0         |       0.0927        |       0.331        |       99.96        |     187819.0      |\n",
      "|  50%  |        45.0        |        0.672        |        0.721        |        6.0         |       -6.166       |         1.0         |       0.0625        |       0.0804        |      1.61e-05       |        0.127        |       0.512        |      121.984       |     216000.0      |\n",
      "|  75%  |        62.0        |        0.761        |        0.84         |        9.0         |       -4.645       |         1.0         |        0.132        |        0.255        |       0.00483       |        0.248        |       0.693        |      133.918       |     253585.0      |\n",
      "|  max  |       100.0        |        0.983        |         1.0         |        11.0        |       1.275        |         1.0         |        0.918        |        0.994        |        0.994        |        0.996        |       0.991        |       239.44       |     517810.0      |\n",
      "+-------+--------------------+---------------------+---------------------+--------------------+--------------------+---------------------+---------------------+---------------------+---------------------+---------------------+--------------------+--------------------+-------------------+\n"
     ]
    }
   ],
   "source": [
    "from tabulate import tabulate\n",
    "import pandas as pd\n",
    "import matplotlib.pyplot as plt\n",
    "import numpy as np\n",
    "import matplotlib as mpl\n",
    "\n",
    "df = pd.read_parquet('spotify_songs.parquet')\n",
    "\n",
    "\n",
    "# Mostrar as primeiras linhas do DataFrame\n",
    "print(\"Primeiras linhas do DataFrame:\")\n",
    "print(tabulate(df.head(), headers='keys', tablefmt='pretty'))\n",
    "\n",
    "\n",
    "# Obter os nomes de todas as colunas\n",
    "colunas = df.columns.tolist()\n",
    "print(\"Nomes de todas as colunas:\")\n",
    "print(colunas)\n",
    "\n",
    "\n",
    "# Estatísticas descritivas das colunas numéricas\n",
    "print(\"\\nEstatísticas descritivas:\")\n",
    "print(tabulate(df.describe(), headers='keys', tablefmt='pretty'))\n",
    "\n"
   ]
  }
 ],
 "metadata": {
  "kernelspec": {
   "display_name": "Python 3",
   "language": "python",
   "name": "python3"
  },
  "language_info": {
   "codemirror_mode": {
    "name": "ipython",
    "version": 3
   },
   "file_extension": ".py",
   "mimetype": "text/x-python",
   "name": "python",
   "nbconvert_exporter": "python",
   "pygments_lexer": "ipython3",
   "version": "3.10.12"
  }
 },
 "nbformat": 4,
 "nbformat_minor": 2
}
